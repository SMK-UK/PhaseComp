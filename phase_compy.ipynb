{
 "cells": [
  {
   "cell_type": "code",
   "execution_count": null,
   "id": "947ef72f",
   "metadata": {},
   "outputs": [],
   "source": [
    "import sys\n",
    "# Add the parent directory to the system path\n",
    "sys.path.insert(1, r\"C:\\Users\\keena\\Documents\\vscode\")\n",
    "\n",
    "from Function_files.addresses import Init_Directories\n",
    "from Function_files.data_functions import read_json\n",
    "import phase_comp as pc\n",
    "\n",
    "dirs = Init_Directories()\n",
    "dirs.current = dirs.join(dirs.code, \"Phase_comp\")\n",
    "a_bbo = read_json(dirs.join(dirs.current, \"Crystals\", \"a_bbo.json\"))\n",
    "yvo = read_json(dirs.join(dirs.current, \"Crystals\", \"yvo.json\"))\n",
    "\n",
    "pump = 0.405\n",
    "temp = 37\n",
    "signal = 0.800\n",
    "idler = 0.820\n",
    "l_bd_pre = 12.5E-3\n",
    "l_bd_post = 13.3E-3"
   ]
  },
  {
   "cell_type": "code",
   "execution_count": 31,
   "id": "6b163cde",
   "metadata": {},
   "outputs": [],
   "source": [
    "p_yvo_o = pc.calculate_n(pump, yvo['alphas_no'], yvo['dno_dT'], T=temp)\n",
    "p_yvo_e = pc.calculate_n(pump, yvo['alphas_ne'], yvo['dne_dT'], T=temp)\n",
    "s_yvo_o = pc.calculate_n(signal, yvo['alphas_no'], yvo['dno_dT'], T=temp)\n",
    "s_yvo_e = pc.calculate_n(signal, yvo['alphas_ne'], yvo['dne_dT'], T=temp)\n",
    "i_yvo_o = pc.calculate_n(idler, yvo['alphas_no'], yvo['dno_dT'], T=temp)\n",
    "i_yvo_e = pc.calculate_n(idler, yvo['alphas_ne'], yvo['dne_dT'], T=temp)\n",
    "p_bbo_o = pc.calculate_n(pump, a_bbo['alphas_no'], a_bbo['dno_dT'], T=temp)\n",
    "p_bbo_e = pc.calculate_n(pump, a_bbo['alphas_ne'], a_bbo['dne_dT'], T=temp)\n",
    "s_bbo_o = pc.calculate_n(signal, a_bbo['alphas_no'], a_bbo['dno_dT'], T=temp)\n",
    "s_bbo_e = pc.calculate_n(signal, a_bbo['alphas_ne'], a_bbo['dne_dT'], T=temp)\n",
    "i_bbo_o = pc.calculate_n(idler, a_bbo['alphas_no'], a_bbo['dno_dT'], T=temp)\n",
    "i_bbo_e = pc.calculate_n(idler, a_bbo['alphas_ne'], a_bbo['dne_dT'], T=temp)"
   ]
  },
  {
   "cell_type": "code",
   "execution_count": 49,
   "id": "5d1d831e",
   "metadata": {},
   "outputs": [],
   "source": [
    "# pre ppktp\n",
    "p_e = pc.delta_phi(pump, 12.5E3, p_bbo_e)\n",
    "p_o = pc.delta_phi(pump, 12.5E3, p_bbo_o)\n",
    "\n",
    "# post ppktp\n",
    "s_e = pc.delta_phi(signal, 13.3E3, s_bbo_e)\n",
    "s_o = pc.delta_phi(signal, 13.3E3, s_bbo_o)\n",
    "i_e = pc.delta_phi(idler, 13.3E3, i_bbo_e)\n",
    "i_o = pc.delta_phi(idler, 13.3E3, i_bbo_o)"
   ]
  },
  {
   "cell_type": "code",
   "execution_count": 50,
   "id": "e51007a3",
   "metadata": {},
   "outputs": [
    {
     "name": "stdout",
     "output_type": "stream",
     "text": [
      "471629.2762064429 467384.0917261642 484218.2877611469 480295.7601070376\n"
     ]
    }
   ],
   "source": [
    "print((p_e + s_o), (p_e + i_o), (p_o + s_e), (p_o + i_e))"
   ]
  },
  {
   "cell_type": "code",
   "execution_count": 51,
   "id": "630bad44",
   "metadata": {},
   "outputs": [
    {
     "data": {
      "text/plain": [
       "np.float64(-12589.01155470399)"
      ]
     },
     "execution_count": 51,
     "metadata": {},
     "output_type": "execute_result"
    }
   ],
   "source": [
    "(p_e + s_o) - (p_o + s_e)"
   ]
  }
 ],
 "metadata": {
  "kernelspec": {
   "display_name": ".pc_venv",
   "language": "python",
   "name": "python3"
  },
  "language_info": {
   "codemirror_mode": {
    "name": "ipython",
    "version": 3
   },
   "file_extension": ".py",
   "mimetype": "text/x-python",
   "name": "python",
   "nbconvert_exporter": "python",
   "pygments_lexer": "ipython3",
   "version": "3.13.1"
  }
 },
 "nbformat": 4,
 "nbformat_minor": 5
}
